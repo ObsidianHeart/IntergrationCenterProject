{
  "nbformat": 4,
  "nbformat_minor": 0,
  "metadata": {
    "colab": {
      "provenance": [],
      "authorship_tag": "ABX9TyM0wQr3Bxvf25ZNc7ILRO9a",
      "include_colab_link": true
    },
    "kernelspec": {
      "name": "python3",
      "display_name": "Python 3"
    },
    "language_info": {
      "name": "python"
    }
  },
  "cells": [
    {
      "cell_type": "markdown",
      "metadata": {
        "id": "view-in-github",
        "colab_type": "text"
      },
      "source": [
        "<a href=\"https://colab.research.google.com/github/ObsidianHeart/IntergrationCenterProject/blob/main/Final_Sentiment_Analysis_Project.ipynb\" target=\"_parent\"><img src=\"https://colab.research.google.com/assets/colab-badge.svg\" alt=\"Open In Colab\"/></a>"
      ]
    },
    {
      "cell_type": "code",
      "execution_count": null,
      "metadata": {
        "id": "PiwNG9Uv9Uhz"
      },
      "outputs": [],
      "source": [
        "# Download the necessary libraries\n",
        "\n",
        "!pip install googletrans==4.0.0-rc1 transformers translate pandas\n",
        "\n",
        "import pandas as pd\n",
        "from transformers import pipeline\n",
        "from googletrans import Translator\n",
        "\n",
        "\n",
        "# Load the sentiment analysis pipeline\n",
        "sentiment_pipeline = pipeline(\"sentiment-analysis\", model=\"distilbert-base-uncased-finetuned-sst-2-english\")\n",
        "\n",
        "# Load the translation pipeline\n",
        "translator = Translator()\n",
        "\n",
        "# Load the CSV file with sentences >>>> Be sure to name the csv file with 2Course.csv2\n",
        "df = pd.read_csv('Course.csv')\n",
        "\n",
        "# Define a function to translate Arabic sentences to English\n",
        "def translate_arabic_to_english(text):\n",
        "    if pd.isnull(text):\n",
        "        return text  # Return as is if the text is empty\n",
        "    return translator.translate(text, dest='en').text\n",
        "\n",
        "# Define a function to perform sentiment analysis\n",
        "def sentiment_analysis(text):\n",
        "    if pd.isnull(text) or text == '':\n",
        "        return ''  # Return empty string for NaN or empty strings\n",
        "    if text.lower() in [\"nothing\", \"none\", \"no\", \"not available\", \"nil\"]:\n",
        "        return 'neutral'  # Return empty string for specified cases\n",
        "    result = sentiment_pipeline(text)[0]\n",
        "    if result['label'] == 'POSITIVE':\n",
        "        return 'positive'\n",
        "    elif result['label'] == 'NEGATIVE':\n",
        "        return 'negative'\n",
        "    else:\n",
        "        return 'neutral'  # This can be handled as needed but defaults to 'neutral'\n",
        "\n",
        "# Get the last 3 columns of the input CSV file\n",
        "last_cols = df.iloc[:, -3:]\n",
        "\n",
        "# Apply translation and sentiment analysis to each column\n",
        "for i, col in enumerate(last_cols.columns):\n",
        "    # Translate and analyze sentiment, ensuring to retain empty values\n",
        "    translated_texts = last_cols[col].apply(translate_arabic_to_english)\n",
        "    df[f'sentiment_{i + 1}'] = translated_texts.apply(sentiment_analysis)\n",
        "\n",
        "# Save output to CSV file\n",
        "df.to_csv('outputCourse.csv', index=False, encoding='utf-8-sig')"
      ]
    }
  ]
}